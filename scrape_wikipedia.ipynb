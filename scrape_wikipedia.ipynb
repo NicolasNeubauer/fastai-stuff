{
 "cells": [
  {
   "cell_type": "code",
   "execution_count": null,
   "metadata": {
    "collapsed": true
   },
   "outputs": [],
   "source": [
    "%reload_ext autoreload\n",
    "%autoreload 2\n",
    "%matplotlib inline"
   ]
  },
  {
   "cell_type": "code",
   "execution_count": null,
   "metadata": {
    "collapsed": true
   },
   "outputs": [],
   "source": [
    "import os\n",
    "# requests for human-friendly HTTP requests\n",
    "import requests\n",
    "from requests.exceptions import RequestException\n",
    "from contextlib import closing\n",
    "# BeautifulSoup for HTML parsing\n",
    "from bs4 import BeautifulSoup, NavigableString\n",
    "# mimetypes for detecting proper extension\n",
    "import mimetypes\n",
    "# Image to show a downloaded image\n",
    "from IPython.display import Image"
   ]
  },
  {
   "cell_type": "code",
   "execution_count": null,
   "metadata": {
    "collapsed": true
   },
   "outputs": [],
   "source": [
    "# from https://realpython.com/python-web-scraping-practical-introduction/\n",
    "def simple_get(url):\n",
    "    \"\"\"\n",
    "    Attempts to get the content at `url` by making an HTTP GET request.\n",
    "    If the content-type of response is some kind of HTML/XML, return the\n",
    "    text content, otherwise return None.\n",
    "    \"\"\"\n",
    "    try:\n",
    "        with closing(get(url, stream=True)) as resp:\n",
    "            if is_good_response(resp):\n",
    "                return resp.content\n",
    "            else:\n",
    "                return None\n",
    "\n",
    "    except RequestException as e:\n",
    "        log_error('Error during requests to {0} : {1}'.format(url, str(e)))\n",
    "        return None\n",
    "\n",
    "\n",
    "def is_good_response(resp):\n",
    "    \"\"\"\n",
    "    Returns True if the response seems to be HTML, False otherwise.\n",
    "    \"\"\"\n",
    "    content_type = resp.headers['Content-Type'].lower()\n",
    "    return (resp.status_code == 200 \n",
    "            and content_type is not None \n",
    "            and content_type.find('html') > -1)\n",
    "\n",
    "\n",
    "def log_error(e):\n",
    "    \"\"\"\n",
    "    It is always a good idea to log errors. \n",
    "    This function just prints them, but you can\n",
    "    make it do anything.\n",
    "    \"\"\"\n",
    "    print(e)"
   ]
  },
  {
   "cell_type": "code",
   "execution_count": null,
   "metadata": {
    "collapsed": true
   },
   "outputs": [],
   "source": [
    "# Get the page and push it into BeautifulSoup\n",
    "url = \"https://de.wikipedia.org/wiki/Liste_der_Mitglieder_des_Deutschen_Bundestages_(19._Wahlperiode)\"\n",
    "content = simple_get(url)\n",
    "html = BeautifulSoup(content, 'html.parser')"
   ]
  },
  {
   "cell_type": "code",
   "execution_count": null,
   "metadata": {},
   "outputs": [],
   "source": [
    "# find the right table\n",
    "mdbtable = html.select('table')[2]\n",
    "mdbtable"
   ]
  },
  {
   "cell_type": "code",
   "execution_count": null,
   "metadata": {},
   "outputs": [],
   "source": [
    "# get a sample row (first one's probably a header)\n",
    "row = mdbtable.select('tr')[1]\n",
    "row"
   ]
  },
  {
   "cell_type": "code",
   "execution_count": null,
   "metadata": {},
   "outputs": [],
   "source": [
    "# figure out how to extract image URL from row\n",
    "image_url = row.select('td')[0].select('a')[0].contents[0][\"src\"]\n",
    "image_url"
   ]
  },
  {
   "cell_type": "code",
   "execution_count": null,
   "metadata": {},
   "outputs": [],
   "source": [
    "# figure out how to extract label from row\n",
    "label = row.select('td')[3].contents[0].strip()\n",
    "label"
   ]
  },
  {
   "cell_type": "code",
   "execution_count": null,
   "metadata": {},
   "outputs": [],
   "source": [
    "# extract image and label from all rows\n",
    "img_and_party = []\n",
    "errors = []\n",
    "for row in mdbtable.select('tr')[1:]:\n",
    "    try:\n",
    "        img = row.select('td')[0].select('a')[0].contents[0][\"src\"]\n",
    "        party = row.select('td')[3].contents[0]\n",
    "        \n",
    "        # special case, some parties are links, others are text\n",
    "        if type(party)==NavigableString:\n",
    "            party = party.strip()\n",
    "        else:\n",
    "            party = party.contents[0]\n",
    "    except Exception as e:\n",
    "        errors.append((row, e))\n",
    "        continue\n",
    "        \n",
    "    # handle special cases (here: Placeholder image)\n",
    "    if 'Placeholder' in img:\n",
    "        continue\n",
    "        \n",
    "    # if all ok, add to list\n",
    "    img_and_party.append((img, party))\n",
    "    \n",
    "# let's see if we accumulated any errors\n",
    "len(errors)   \n"
   ]
  },
  {
   "cell_type": "code",
   "execution_count": null,
   "metadata": {},
   "outputs": [],
   "source": [
    "# let's see a sample entry\n",
    "img_and_party[0]"
   ]
  },
  {
   "cell_type": "code",
   "execution_count": null,
   "metadata": {},
   "outputs": [],
   "source": [
    "# now download images and store according to label\n",
    "# NOTE: this does not create a validation set, so you'll want to \n",
    "# pass on valid_pct to ImageDataBunch.from_folder, \n",
    "# such that a validation set of valid_pct percent is created automatically\n",
    "urlpattern = \"https:{}\"\n",
    "pathpattern = \"/home/nneubaue/downloads/party/{}/{}{}\"\n",
    "dirpattern = \"/home/nneubaue/downloads/party/{}\"\n",
    "\n",
    "for (i, (img, party)) in enumerate(img_and_party):    \n",
    "    url = urlpattern.format(img)\n",
    "    \n",
    "    directory = dirpattern.format(party)\n",
    "    if not os.path.exists(directory):\n",
    "        os.makedirs(directory)        \n",
    "    \n",
    "    response = requests.get(url)\n",
    "    content_type = response.headers['content-type']\n",
    "    extension = mimetypes.guess_extension(content_type)\n",
    "    if extension == '.jpe':\n",
    "        extension = '.jpg'\n",
    "        \n",
    "    path = pathpattern.format(party, i, extension)\n",
    "    if response.status_code == 200:\n",
    "        with open(path, 'wb') as f:\n",
    "            f.write(response.content)            "
   ]
  },
  {
   "cell_type": "code",
   "execution_count": null,
   "metadata": {},
   "outputs": [],
   "source": [
    "# let's see where the last image was written to...\n",
    "path"
   ]
  },
  {
   "cell_type": "code",
   "execution_count": null,
   "metadata": {},
   "outputs": [],
   "source": [
    "# ... and what it looks like\n",
    "Image(path)"
   ]
  }
 ],
 "metadata": {
  "kernelspec": {
   "display_name": "Python 3",
   "language": "python",
   "name": "python3"
  },
  "language_info": {
   "codemirror_mode": {
    "name": "ipython",
    "version": 3
   },
   "file_extension": ".py",
   "mimetype": "text/x-python",
   "name": "python",
   "nbconvert_exporter": "python",
   "pygments_lexer": "ipython3",
   "version": "3.6.8"
  }
 },
 "nbformat": 4,
 "nbformat_minor": 2
}
